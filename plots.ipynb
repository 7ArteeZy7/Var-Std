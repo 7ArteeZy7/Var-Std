{
 "cells": [
  {
   "cell_type": "code",
   "execution_count": 37,
   "id": "3ce079c6",
   "metadata": {},
   "outputs": [],
   "source": [
    "import numpy as np\n",
    "import pandas as pd\n",
    "import matplotlib.pyplot as plt\n",
    "import seaborn as sns\n",
    "from scipy import stats\n",
    "from scipy.stats import norm"
   ]
  },
  {
   "cell_type": "code",
   "execution_count": 18,
   "id": "0d6bb1dd",
   "metadata": {},
   "outputs": [
    {
     "data": {
      "text/plain": [
       "array([51.677164  , 54.3216734 , 42.49316402, 47.75356147, 52.22469047,\n",
       "       48.2347998 , 44.4409794 , 49.85494891, 46.40877655, 48.68117654,\n",
       "       52.38510592, 51.2134523 , 42.88720432, 57.09178035, 49.5842385 ,\n",
       "       50.00104733, 49.46969711, 47.55842169, 61.03033969, 49.44445473,\n",
       "       54.48798047, 60.92114519, 51.41177006, 55.24210561, 53.15645605,\n",
       "       59.43614063, 50.93697791, 45.79737868, 52.15566734, 48.88747953,\n",
       "       44.87854934, 50.99541331, 48.41422872, 40.82524589, 53.10177048,\n",
       "       49.11225311, 45.23059302, 47.01601104, 49.3138053 , 50.43617826,\n",
       "       50.57198747, 45.91667472, 50.90118193, 59.69166445, 50.98698974,\n",
       "       53.0816701 , 48.83940901, 51.64874779, 39.90448417, 43.28437588,\n",
       "       59.000006  , 51.71004949, 45.28450717, 41.50375735, 56.31971648,\n",
       "       52.81721122, 45.97156376, 53.60146826, 51.89906316, 49.95581868,\n",
       "       47.87939062, 53.33572721, 49.94642745, 53.48014852, 48.65471319,\n",
       "       50.7422856 , 49.61296512, 54.95522793, 54.97743836, 46.64553505,\n",
       "       53.77194317, 50.34518482, 50.83200224, 45.63025309, 38.45084971,\n",
       "       50.37544374, 56.2728445 , 42.14302015, 50.15108223, 47.9710723 ,\n",
       "       41.07280162, 46.11868409, 49.99981372, 45.99356478, 48.65859542,\n",
       "       63.34056692, 52.51611263, 60.42167897, 54.40993696, 54.85689081,\n",
       "       51.68026491, 45.54679171, 46.22100664, 41.69227132, 43.3125966 ,\n",
       "       55.49205614, 50.05124709, 50.05775749, 49.60584231, 48.48234474])"
      ]
     },
     "execution_count": 18,
     "metadata": {},
     "output_type": "execute_result"
    }
   ],
   "source": [
    "x=np.random.normal(50,5,size=100)\n",
    "x"
   ]
  },
  {
   "cell_type": "code",
   "execution_count": 30,
   "id": "e78a38e4",
   "metadata": {},
   "outputs": [],
   "source": [
    "pd.DataFrame(x).to_csv('Normal Gaussian',index=False)"
   ]
  },
  {
   "cell_type": "code",
   "execution_count": 31,
   "id": "bc42487c",
   "metadata": {},
   "outputs": [],
   "source": [
    "y=pd.read_csv('Normal Gaussian')"
   ]
  },
  {
   "cell_type": "code",
   "execution_count": 32,
   "id": "56a68310",
   "metadata": {},
   "outputs": [
    {
     "data": {
      "text/html": [
       "<div>\n",
       "<style scoped>\n",
       "    .dataframe tbody tr th:only-of-type {\n",
       "        vertical-align: middle;\n",
       "    }\n",
       "\n",
       "    .dataframe tbody tr th {\n",
       "        vertical-align: top;\n",
       "    }\n",
       "\n",
       "    .dataframe thead th {\n",
       "        text-align: right;\n",
       "    }\n",
       "</style>\n",
       "<table border=\"1\" class=\"dataframe\">\n",
       "  <thead>\n",
       "    <tr style=\"text-align: right;\">\n",
       "      <th></th>\n",
       "      <th>0</th>\n",
       "    </tr>\n",
       "  </thead>\n",
       "  <tbody>\n",
       "    <tr>\n",
       "      <th>0</th>\n",
       "      <td>51.677164</td>\n",
       "    </tr>\n",
       "    <tr>\n",
       "      <th>1</th>\n",
       "      <td>54.321673</td>\n",
       "    </tr>\n",
       "    <tr>\n",
       "      <th>2</th>\n",
       "      <td>42.493164</td>\n",
       "    </tr>\n",
       "    <tr>\n",
       "      <th>3</th>\n",
       "      <td>47.753561</td>\n",
       "    </tr>\n",
       "    <tr>\n",
       "      <th>4</th>\n",
       "      <td>52.224690</td>\n",
       "    </tr>\n",
       "    <tr>\n",
       "      <th>...</th>\n",
       "      <td>...</td>\n",
       "    </tr>\n",
       "    <tr>\n",
       "      <th>95</th>\n",
       "      <td>55.492056</td>\n",
       "    </tr>\n",
       "    <tr>\n",
       "      <th>96</th>\n",
       "      <td>50.051247</td>\n",
       "    </tr>\n",
       "    <tr>\n",
       "      <th>97</th>\n",
       "      <td>50.057757</td>\n",
       "    </tr>\n",
       "    <tr>\n",
       "      <th>98</th>\n",
       "      <td>49.605842</td>\n",
       "    </tr>\n",
       "    <tr>\n",
       "      <th>99</th>\n",
       "      <td>48.482345</td>\n",
       "    </tr>\n",
       "  </tbody>\n",
       "</table>\n",
       "<p>100 rows × 1 columns</p>\n",
       "</div>"
      ],
      "text/plain": [
       "            0\n",
       "0   51.677164\n",
       "1   54.321673\n",
       "2   42.493164\n",
       "3   47.753561\n",
       "4   52.224690\n",
       "..        ...\n",
       "95  55.492056\n",
       "96  50.051247\n",
       "97  50.057757\n",
       "98  49.605842\n",
       "99  48.482345\n",
       "\n",
       "[100 rows x 1 columns]"
      ]
     },
     "execution_count": 32,
     "metadata": {},
     "output_type": "execute_result"
    }
   ],
   "source": [
    "y"
   ]
  },
  {
   "cell_type": "code",
   "execution_count": 35,
   "id": "a6d2ec0b",
   "metadata": {},
   "outputs": [
    {
     "name": "stdout",
     "output_type": "stream",
     "text": [
      "mean:  0    50.071086\n",
      "dtype: float64\n",
      "median:  50.026147212550946\n",
      "variance:  0    23.492907\n",
      "dtype: float64\n"
     ]
    },
    {
     "name": "stderr",
     "output_type": "stream",
     "text": [
      "C:\\Users\\ADITPAWAR\\Anaconda3\\lib\\site-packages\\numpy\\core\\fromnumeric.py:3438: FutureWarning: In a future version, DataFrame.mean(axis=None) will return a scalar mean over the entire DataFrame. To retain the old behavior, use 'frame.mean(axis=0)' or just 'frame.mean()'\n",
      "  return mean(axis=axis, dtype=dtype, out=out, **kwargs)\n"
     ]
    }
   ],
   "source": [
    "print(\"mean: \",np.mean(y))\n",
    "print(\"median: \",np.median(y))\n",
    "print(\"variance: \",np.var(y))"
   ]
  },
  {
   "cell_type": "code",
   "execution_count": 38,
   "id": "939ce750",
   "metadata": {},
   "outputs": [
    {
     "name": "stdout",
     "output_type": "stream",
     "text": [
      "1.6448536269514722\n"
     ]
    }
   ],
   "source": [
    "p=.95\n",
    "value=norm.ppf(p)\n",
    "print(value)"
   ]
  },
  {
   "cell_type": "code",
   "execution_count": 34,
   "id": "cf37bd3d",
   "metadata": {},
   "outputs": [
    {
     "data": {
      "image/png": "[encoded data removed]",
      "text/plain": [
       "<Figure size 720x504 with 1 Axes>"
      ]
     },
     "metadata": {
      "needs_background": "light"
     },
     "output_type": "display_data"
    }
   ],
   "source": [
    "np.random.seed(10)\n",
    "data=np.random.normal(100,20,200)\n",
    "\n",
    "fig=plt.figure(figsize=(10,7))\n",
    "\n",
    "#Creating plot\n",
    "plt.boxplot(data)\n",
    "\n",
    "#Show plot\n",
    "plt.show()"
   ]
  },
  {
   "cell_type": "code",
   "execution_count": null,
   "id": "2ea02edc",
   "metadata": {},
   "outputs": [],
   "source": []
  },
  {
   "cell_type": "code",
   "execution_count": 39,
   "id": "99ec7583",
   "metadata": {},
   "outputs": [
    {
     "name": "stdout",
     "output_type": "stream",
     "text": [
      "[32 34 29 29 22 39 38 37 38 36 30 26 22 22]\n",
      "31.0\n",
      "p-values 0.5605155888171379\n",
      "we are accepting null hypothesis\n"
     ]
    }
   ],
   "source": [
    "from scipy.stats import ttest_1samp\n",
    "import numpy as np\n",
    "\n",
    "#10 ages and you are checking whether avg age is 30 or not.\n",
    "#H0: The average age is 30\n",
    "#H1: The average age is not 30.\n",
    "ages = np.array([32,34,29,29,22,39,38,37,38,36,30,26,22,22])\n",
    "print(ages)\n",
    "#mean of the age \n",
    "ages_mean = np.mean(ages)\n",
    "print(ages_mean)\n",
    "#One Sample t-test\n",
    "tset, pval = ttest_1samp(ages, 30)\n",
    "print('p-values',pval)\n",
    "if pval < 0.05:    # alpha value is 0.05 or 5%\n",
    "   print(\" we are rejecting null hypothesis\")\n",
    "else:\n",
    "  print(\"we are accepting null hypothesis\")\n"
   ]
  },
  {
   "cell_type": "code",
   "execution_count": 40,
   "id": "8c5d3088",
   "metadata": {},
   "outputs": [
    {
     "data": {
      "text/plain": [
       "array([ 0.16568337,  0.49705012, -0.33136675, -0.33136675, -1.49115037,\n",
       "        1.32546699,  1.15978362,  0.99410024,  1.15978362,  0.82841687,\n",
       "       -0.16568337, -0.82841687, -1.49115037, -1.49115037])"
      ]
     },
     "execution_count": 40,
     "metadata": {},
     "output_type": "execute_result"
    }
   ],
   "source": [
    "stats.zscore(ages)"
   ]
  },
  {
   "cell_type": "code",
   "execution_count": null,
   "id": "ec2eb547",
   "metadata": {},
   "outputs": [],
   "source": []
  },
  {
   "cell_type": "code",
   "execution_count": 43,
   "id": "68d58007",
   "metadata": {},
   "outputs": [],
   "source": [
    "age_x=[25,26,27,29,33,32,35,28,35,39]\n",
    "devop=[3525,3326,3627,3129,3633,3032,3115,3628,3435,3009]\n",
    "javadop=[4525,5326,5627,5129,5633,5032,6115,6628,6435,6009]\n",
    "age_x.sort()\n",
    "devop.sort()\n",
    "javadop.sort()"
   ]
  },
  {
   "cell_type": "code",
   "execution_count": 49,
   "id": "44c5fdc7",
   "metadata": {},
   "outputs": [
    {
     "data": {
      "text/plain": [
       "<matplotlib.legend.Legend at 0x1f245462880>"
      ]
     },
     "execution_count": 49,
     "metadata": {},
     "output_type": "execute_result"
    },
    {
     "data": {
      "image/png": "[encoded data removed]",
      "text/plain": [
       "<Figure size 432x288 with 1 Axes>"
      ]
     },
     "metadata": {
      "needs_background": "light"
     },
     "output_type": "display_data"
    }
   ],
   "source": [
    "plt.plot(age_x,devop,label=\"All devep\")\n",
    "plt.plot(age_x,javadop,label=\"All Java \")\n",
    "plt.xlabel(\"Ages\")\n",
    "plt.ylabel(\"Median Salary (USD)\")\n",
    "plt.legend()"
   ]
  },
  {
   "cell_type": "code",
   "execution_count": 46,
   "id": "66543e98",
   "metadata": {},
   "outputs": [
    {
     "data": {
      "text/plain": [
       "['Solarize_Light2',\n",
       " '_classic_test_patch',\n",
       " '_mpl-gallery',\n",
       " '_mpl-gallery-nogrid',\n",
       " 'bmh',\n",
       " 'classic',\n",
       " 'dark_background',\n",
       " 'fast',\n",
       " 'fivethirtyeight',\n",
       " 'ggplot',\n",
       " 'grayscale',\n",
       " 'seaborn',\n",
       " 'seaborn-bright',\n",
       " 'seaborn-colorblind',\n",
       " 'seaborn-dark',\n",
       " 'seaborn-dark-palette',\n",
       " 'seaborn-darkgrid',\n",
       " 'seaborn-deep',\n",
       " 'seaborn-muted',\n",
       " 'seaborn-notebook',\n",
       " 'seaborn-paper',\n",
       " 'seaborn-pastel',\n",
       " 'seaborn-poster',\n",
       " 'seaborn-talk',\n",
       " 'seaborn-ticks',\n",
       " 'seaborn-white',\n",
       " 'seaborn-whitegrid',\n",
       " 'tableau-colorblind10']"
      ]
     },
     "execution_count": 46,
     "metadata": {},
     "output_type": "execute_result"
    }
   ],
   "source": [
    "plt.style.available"
   ]
  },
  {
   "cell_type": "code",
   "execution_count": 52,
   "id": "5641c70d",
   "metadata": {},
   "outputs": [
    {
     "name": "stdout",
     "output_type": "stream",
     "text": [
      "[45.71238742 48.17860957 49.27467731 50.81952126 50.94165607 51.03664784\n",
      " 51.78469534 52.51963451 54.14756242 55.42613537]\n",
      "[2585.34882336 2826.23583865 2882.14997926 2940.01092529 3059.83481661\n",
      " 3087.36910217 3121.25065704 3188.82498949 3219.87142264 3402.8643235 ]\n",
      "[3948.23893437 4029.6451125  4221.97632918 4416.79731424 4473.20274914\n",
      " 4532.15969988 4907.61034071 4978.85561984 5408.89130436 5839.95515399]\n"
     ]
    }
   ],
   "source": [
    "x1=np.random.normal(50,5,10)\n",
    "opx1=np.random.normal(3000,250,10)\n",
    "javax1=np.random.normal(4500,500,10)\n",
    "x1.sort()\n",
    "opx1.sort()\n",
    "javax1.sort()\n",
    "print(x1)\n",
    "print(opx1)\n",
    "print(javax1)"
   ]
  },
  {
   "cell_type": "code",
   "execution_count": 53,
   "id": "1eac617c",
   "metadata": {},
   "outputs": [
    {
     "data": {
      "text/plain": [
       "<matplotlib.legend.Legend at 0x1f244def340>"
      ]
     },
     "execution_count": 53,
     "metadata": {},
     "output_type": "execute_result"
    },
    {
     "data": {
      "image/png": "[encoded data removed]",
      "text/plain": [
       "<Figure size 432x288 with 1 Axes>"
      ]
     },
     "metadata": {
      "needs_background": "light"
     },
     "output_type": "display_data"
    }
   ],
   "source": [
    "plt.plot(x1,opx1,label=\"All devep\")\n",
    "plt.plot(x1,javax1,label=\"All Java \")\n",
    "plt.xlabel(\"Ages\")\n",
    "plt.ylabel(\"Median Salary (USD)\")\n",
    "plt.legend()"
   ]
  },
  {
   "cell_type": "code",
   "execution_count": null,
   "id": "71409d86",
   "metadata": {},
   "outputs": [],
   "source": []
  },
  {
   "cell_type": "code",
   "execution_count": 54,
   "id": "7856e911",
   "metadata": {},
   "outputs": [
    {
     "data": {
      "text/plain": [
       "<matplotlib.collections.PathCollection at 0x1f245226940>"
      ]
     },
     "execution_count": 54,
     "metadata": {},
     "output_type": "execute_result"
    },
    {
     "data": {
      "image/png": "[encoded data removed]",
      "text/plain": [
       "<Figure size 432x288 with 1 Axes>"
      ]
     },
     "metadata": {
      "needs_background": "light"
     },
     "output_type": "display_data"
    }
   ],
   "source": [
    "plt.scatter(x1,opx1)"
   ]
  },
  {
   "cell_type": "code",
   "execution_count": 55,
   "id": "964274ae",
   "metadata": {},
   "outputs": [
    {
     "data": {
      "text/plain": [
       "<BarContainer object of 10 artists>"
      ]
     },
     "execution_count": 55,
     "metadata": {},
     "output_type": "execute_result"
    },
    {
     "data": {
      "image/png": "[encoded data removed]",
      "text/plain": [
       "<Figure size 432x288 with 1 Axes>"
      ]
     },
     "metadata": {
      "needs_background": "light"
     },
     "output_type": "display_data"
    }
   ],
   "source": [
    "plt.bar(x1,opx1)"
   ]
  },
  {
   "cell_type": "code",
   "execution_count": 56,
   "id": "ce0134c1",
   "metadata": {},
   "outputs": [
    {
     "data": {
      "text/plain": [
       "[<matplotlib.lines.Line2D at 0x1f244d7d160>]"
      ]
     },
     "execution_count": 56,
     "metadata": {},
     "output_type": "execute_result"
    },
    {
     "data": {
      "image/png": "[encoded data removed]",
      "text/plain": [
       "<Figure size 432x288 with 1 Axes>"
      ]
     },
     "metadata": {
      "needs_background": "light"
     },
     "output_type": "display_data"
    }
   ],
   "source": [
    "plt.plot(x1,linestyle=\"dotted\")"
   ]
  },
  {
   "cell_type": "code",
   "execution_count": 57,
   "id": "7e3c3b86",
   "metadata": {},
   "outputs": [
    {
     "data": {
      "text/plain": [
       "(array([1., 0., 1., 1., 0., 3., 1., 1., 1., 1.]),\n",
       " array([45.71238742, 46.68376222, 47.65513701, 48.62651181, 49.5978866 ,\n",
       "        50.5692614 , 51.54063619, 52.51201099, 53.48338578, 54.45476057,\n",
       "        55.42613537]),\n",
       " <BarContainer object of 10 artists>)"
      ]
     },
     "execution_count": 57,
     "metadata": {},
     "output_type": "execute_result"
    },
    {
     "data": {
      "image/png": "[encoded data removed]",
      "text/plain": [
       "<Figure size 432x288 with 1 Axes>"
      ]
     },
     "metadata": {
      "needs_background": "light"
     },
     "output_type": "display_data"
    }
   ],
   "source": [
    "plt.hist(x1)"
   ]
  },
  {
   "cell_type": "code",
   "execution_count": null,
   "id": "4c2652cc",
   "metadata": {},
   "outputs": [],
   "source": []
  },
  {
   "cell_type": "code",
   "execution_count": null,
   "id": "6519f421",
   "metadata": {},
   "outputs": [],
   "source": []
  }
 ],
 "metadata": {
  "kernelspec": {
   "display_name": "Python 3 (ipykernel)",
   "language": "python",
   "name": "python3"
  },
  "language_info": {
   "codemirror_mode": {
    "name": "ipython",
    "version": 3
   },
   "file_extension": ".py",
   "mimetype": "text/x-python",
   "name": "python",
   "nbconvert_exporter": "python",
   "pygments_lexer": "ipython3",
   "version": "3.9.12"
  }
 },
 "nbformat": 4,
 "nbformat_minor": 5
}
